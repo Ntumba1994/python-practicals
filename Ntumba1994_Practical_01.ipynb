{
 "cells": [
  {
   "cell_type": "markdown",
   "metadata": {},
   "source": [
    "<center>\n",
    "    <a href=\"https://www.aims-senegal.org/\" ><img src=\"aimssn_logo.png\" style=\"float:center; max-width: 600px; display: inline\" alt=\"IMSP\"/> </a>\n",
    "    </center>\n",
    "    \n",
    "#    <center> <b> <span style=\"color:orange;\" >  `Python for Scientific Computing and Software Engineering ` </span> </b></center>\n",
    "\n",
    "\n",
    "## <center> <b> <span style=\"color:orange;\"> An Initiation to Programming using Python (Init2Py) </span> </b></center>\n",
    "\n",
    "### <center> <b> <span style=\"color:blue;\"> Practicals: Variables, Types & Operations </span> </b></center>"
   ]
  },
  {
   "cell_type": "markdown",
   "metadata": {},
   "source": [
    "**Exercise 00:**  \n",
    "\n",
    "> 1. Declare a variable `firstname` and assign it a value.\n",
    "> 2. Declare a `lastname` variable and assign a value to it.\n",
    "> 3. Declare a `full_name` variable and assign it a value.\n",
    "> 4. Declare a `country` variable and assign it a value.\n",
    "> 5. Declare a variable `city` and assign it a value.\n",
    "> 6. Declare a `age` variable and assign it a value.\n",
    "> 7. Declare a variable `year` and assign it a value.\n",
    "> 8. Declare a variable `is_marrie` and assign it a value.\n",
    "> 9. Declare a variable `is_true` and assign it a value.\n",
    "\n",
    "> For each of the above variable, display the value it contains using the `print()` function.\n",
    "\n",
    "\n"
   ]
  },
  {
   "cell_type": "code",
   "execution_count": 1,
   "metadata": {},
   "outputs": [
    {
     "name": "stdout",
     "output_type": "stream",
     "text": [
      "voici les info. NTUMBA ALBERT NKONGOLO RDC kinshasa 27 1993 non oui\n"
     ]
    }
   ],
   "source": [
    "nom=\"NTUMBA\"\n",
    "prenom=\"ALBERT\"\n",
    "postnom=\"NKONGOLO\"\n",
    "pays=\"RDC\"\n",
    "ville=\"kinshasa\"\n",
    "age=27\n",
    "annee=1993\n",
    "is_marrie=\"non\"\n",
    "is_true=\"oui\"\n",
    "\n",
    "print(\"voici les info.\", nom,prenom,postnom,pays,ville,age,annee,is_marrie,is_true)"
   ]
  },
  {
   "cell_type": "markdown",
   "metadata": {},
   "source": [
    "**Exercise 01:** \n",
    "> Check the data type of all your variables using the built-in function `type()`.**\n"
   ]
  },
  {
   "cell_type": "code",
   "execution_count": 2,
   "metadata": {},
   "outputs": [
    {
     "name": "stdout",
     "output_type": "stream",
     "text": [
      "voici les types  <class 'str'> <class 'str'> <class 'str'> <class 'str'> <class 'str'> <class 'int'> <class 'int'> <class 'str'> <class 'str'>\n"
     ]
    }
   ],
   "source": [
    "print(\"voici les types \", type(nom), type(prenom), type(postnom), type(pays), type(ville), type(age), type(annee), type(is_marrie), type(is_true))"
   ]
  },
  {
   "cell_type": "markdown",
   "metadata": {},
   "source": [
    "**Exercise 02:** \n",
    "> Calculate the value of $y$ ($y = x^2 + 6x + 9$). Try using different values of $x$ and determine at what value of $x$ will $y$ be equal to 0.**"
   ]
  },
  {
   "cell_type": "code",
   "execution_count": 3,
   "metadata": {},
   "outputs": [
    {
     "name": "stdout",
     "output_type": "stream",
     "text": [
      "entrer la valeur de x=-3\n",
      "la valeur de y est :  0\n"
     ]
    }
   ],
   "source": [
    "x=int(input(\"entrer la valeur de x=\"))\n",
    "y=(x*x)+6*x+9\n",
    "print(\"la valeur de y est : \",y)\n"
   ]
  },
  {
   "cell_type": "markdown",
   "metadata": {},
   "source": [
    "**Exercise 03:** \n",
    ">    \n",
    "     1. Declare your age as an integer variable\n",
    "     2. Declare your height as a float variable\n",
    "     3. Declare a variable that stores the base and height of a triangle. Calculate the area of this triangle (area = 0.5 x b x h)."
   ]
  },
  {
   "cell_type": "markdown",
   "metadata": {},
   "source": [
    "## *Tip: receiving input from the user *\n",
    "**To receive an input from the user, we use `input()`.**.\n",
    "\n",
    "**Example**\n",
    "Receive two numbers as input from the user and calculate their power:\n",
    "```python\n",
    "base = input(\"Enter a base: \")\n",
    "exponent = input(\"Enter an exponent: \")\n",
    "result = float(base) ** float(exponent)\n",
    "print(f \"{base} to the power of {exponent} = {result}\")\n",
    "```"
   ]
  },
  {
   "cell_type": "code",
   "execution_count": 4,
   "metadata": {},
   "outputs": [
    {
     "name": "stdout",
     "output_type": "stream",
     "text": [
      "entrer votre base:4\n",
      "entrer votre taille: 2\n",
      "le resultat  vaut:  4.0\n"
     ]
    }
   ],
   "source": [
    "base=int(input(\"entrer votre base:\"))\n",
    "taille=float(input(\"entrer votre taille: \"))\n",
    "area=0.5*taille*base\n",
    "print(\"le resultat  vaut: \" , area)"
   ]
  },
  {
   "cell_type": "markdown",
   "metadata": {},
   "source": [
    "**Exercise 04:** \n",
    "> **Write a small code that asks the user to enter the side $a$, the side $b$ and the side $c$ of a triangle. Calculate the perimeter of the triangle (perimeter = a + b + c).**"
   ]
  },
  {
   "cell_type": "code",
   "execution_count": 5,
   "metadata": {},
   "outputs": [
    {
     "name": "stdout",
     "output_type": "stream",
     "text": [
      "entrer le cote a: 2\n",
      "entrer le cote b: 1\n",
      "entrer le cote c: 3\n",
      "le perimetre vaut:  6.0\n"
     ]
    }
   ],
   "source": [
    "a=int(input(\"entrer le cote a: \"))\n",
    "b=float(input(\"entrer le cote b: \"))\n",
    "c=float(input(\"entrer le cote c: \"))\n",
    "p=a+b+c\n",
    "print(\"le perimetre vaut: \" , p)"
   ]
  },
  {
   "cell_type": "markdown",
   "metadata": {},
   "source": [
    "**Exercise 05:** \n",
    "> **Obtain the length and width of a rectangle using the prompt. Calculate its `area`and its `perimeter`.**"
   ]
  },
  {
   "cell_type": "code",
   "execution_count": 6,
   "metadata": {},
   "outputs": [
    {
     "name": "stdout",
     "output_type": "stream",
     "text": [
      "entrer la longueur du rectangle: 4\n",
      "entrer la largeur du rectangle: 2\n",
      "le perimetre vaut:  12.0\n",
      "la surface vaut:  8.0\n"
     ]
    }
   ],
   "source": [
    "L=int(input(\"entrer la longueur du rectangle: \"))\n",
    "l=float(input(\"entrer la largeur du rectangle: \"))\n",
    "p=2*(L+l)\n",
    "s=L*l\n",
    "print(\"le perimetre vaut: \" , p)\n",
    "print(\"la surface vaut: \" , s)"
   ]
  },
  {
   "cell_type": "markdown",
   "metadata": {},
   "source": [
    "**Exercice 06:** \n",
    "> **Obtenez le rayon d'un cercle en utilisant l'invite. Calculez l'aire (aire = pi x r x r) et la circonférence (c = 2 x pi x r) où pi = 3,14.**"
   ]
  },
  {
   "cell_type": "code",
   "execution_count": 7,
   "metadata": {},
   "outputs": [
    {
     "name": "stdout",
     "output_type": "stream",
     "text": [
      "entrer le rayon du cercle: 1\n",
      "le perimetre vaut:  3.14\n",
      "la surface vaut:  6.28\n"
     ]
    }
   ],
   "source": [
    "r=int(input(\"entrer le rayon du cercle: \"))\n",
    "s=3.14*r*r\n",
    "c=2*3.14*r\n",
    "print(\"le perimetre vaut: \" , s)\n",
    "print(\"la surface vaut: \" , c)"
   ]
  },
  {
   "cell_type": "markdown",
   "metadata": {},
   "source": [
    "**Exercice 07:**\n",
    "> **Calculez la pente, l'ordonnée à l'origine en x et l'ordonnée à l'origine en $y$ de $y = 2x -2$.**"
   ]
  },
  {
   "cell_type": "code",
   "execution_count": 8,
   "metadata": {},
   "outputs": [
    {
     "name": "stdout",
     "output_type": "stream",
     "text": [
      "y vaut:  -2\n",
      "y vaut:  1\n",
      "la pente vaut:  2.0\n"
     ]
    }
   ],
   "source": [
    "x1=0\n",
    "print(\"y vaut: \", 2*x1-2)\n",
    "y1=-2\n",
    "print(\"y vaut: \", 1)\n",
    "y2=0\n",
    "x2=1\n",
    "pente=(y2-y1)/(x2-x1)\n",
    "print(\"la pente vaut: \", pente)"
   ]
  },
  {
   "cell_type": "markdown",
   "metadata": {},
   "source": [
    "**Exercice 08:** \n",
    "> **Rédigez un script qui demande à l'utilisateur d'entrer les heures et le taux horaire. Calculez la rémunération de la personne ?**"
   ]
  },
  {
   "cell_type": "code",
   "execution_count": 9,
   "metadata": {},
   "outputs": [
    {
     "name": "stdout",
     "output_type": "stream",
     "text": [
      "entrer l'heure de depart: 50\n",
      "entrer l'heure arrivee: 55\n",
      "entrer le taux horaire: 200\n",
      "la pente vaut:  1000.0\n"
     ]
    }
   ],
   "source": [
    "h1=int(input(\"entrer l'heure de depart: \"))\n",
    "h2=int(input(\"entrer l'heure arrivee: \"))\n",
    "tauxH=float(input(\"entrer le taux horaire: \"))\n",
    "h=h2-h1\n",
    "remuneration=h*tauxH\n",
    "print(\"la pente vaut: \", remuneration)"
   ]
  },
  {
   "cell_type": "markdown",
   "metadata": {},
   "source": [
    "**Exercice 09:** \n",
    "> **Écrivez un script qui demande à l'utilisateur d'entrer le nombre d'années. Calculez le nombre de secondes qu'une personne peut vivre. Supposons qu'une personne puisse vivre cent ans.**"
   ]
  },
  {
   "cell_type": "code",
   "execution_count": 10,
   "metadata": {},
   "outputs": [
    {
     "name": "stdout",
     "output_type": "stream",
     "text": [
      "entrer nombre annee: 50\n",
      "le nombre de seconde de survie vaut:  1576800000\n"
     ]
    }
   ],
   "source": [
    "h=int(input(\"entrer nombre annee: \"))\n",
    "nombreSeconde=(100-h)*31536000\n",
    "print(\"le nombre de seconde de survie vaut: \", nombreSeconde)"
   ]
  },
  {
   "cell_type": "markdown",
   "metadata": {},
   "source": [
    "**Exercice 10:** \n",
    "> **Écrivez un script Python qui affiche le tableau suivant**\n",
    "\n",
    "    1 1 1 1 1\n",
    "    \n",
    "    2 1 2 4 8\n",
    "    \n",
    "    3 1 3 9 27\n",
    "    \n",
    "    4 1 4 16 64\n",
    "    \n",
    "    5 1 5 25 125"
   ]
  },
  {
   "cell_type": "code",
   "execution_count": 11,
   "metadata": {},
   "outputs": [
    {
     "name": "stdout",
     "output_type": "stream",
     "text": [
      "1   1   1  1  1\n",
      "\n",
      "2   1   2  4  8\n",
      "\n",
      "3   1   3  6  27\n",
      "\n",
      "4   1   4  8  64\n",
      "\n",
      "5   1   5  25  125\n"
     ]
    }
   ],
   "source": [
    "a=1\n",
    "print(a ,\" \", a ,\" \",a ,\"\", a,\"\", a)\n",
    "print(\"\")\n",
    "print(a+1 ,\" \" , a ,\" \",a+1 ,\"\", (a+a)*2,\"\", (a+a)*4)\n",
    "print(\"\")\n",
    "print(a+2 ,\" \" , a ,\" \",a+2 ,\"\", (a+a+a)*2,\"\", ((a+a+a)*3)*3)\n",
    "print(\"\")\n",
    "print(a+3 ,\" \" , a ,\" \",a+3 ,\"\", (a+a+a+a)*2,\"\", ((a+a+a+a)*4)*4)\n",
    "print(\"\")\n",
    "print(a+4 ,\" \" , a ,\" \",a+4 ,\"\", (a+a+a+a+a)*5,\"\", ((a+a+a+a+a)*5)*5)"
   ]
  },
  {
   "cell_type": "markdown",
   "metadata": {},
   "source": [
    "**Exercise 11:** \n",
    ">**Assign the variables `time` and `distance` with the values $6.892$ and $19.7$. Calculate and display the value of the speed. Improve the display by imposing a digit after the decimal point.**"
   ]
  },
  {
   "cell_type": "code",
   "execution_count": 12,
   "metadata": {},
   "outputs": [
    {
     "name": "stdout",
     "output_type": "stream",
     "text": [
      "la vitesse vaut:  2.9\n"
     ]
    }
   ],
   "source": [
    "time=6.892\n",
    "distance=19.7\n",
    "vitesse=distance/time\n",
    "print(\"la vitesse vaut: \",round(vitesse,1))"
   ]
  },
  {
   "cell_type": "markdown",
   "metadata": {},
   "source": [
    "**Exercice 12:** \n",
    "> **Écrire un programme qui, à partir de la saisie d’un rayon et d’une hauteur, calcule levolume d’un cône droit.**"
   ]
  },
  {
   "cell_type": "code",
   "execution_count": 13,
   "metadata": {},
   "outputs": [
    {
     "name": "stdout",
     "output_type": "stream",
     "text": [
      "entrer le rayon: 1\n",
      "entrer la hauteur: 2\n",
      "le volume vaut:  4.1866666666666665\n"
     ]
    }
   ],
   "source": [
    "rayon=int(input(\"entrer le rayon: \"))\n",
    "hauteur=int(input(\"entrer la hauteur: \"))\n",
    "perimetreBase=2*r*3.14\n",
    "volume=(perimetreBase*hauteur)/3\n",
    "print(\"le volume vaut: \", volume)"
   ]
  },
  {
   "cell_type": "markdown",
   "metadata": {},
   "source": [
    "**Exercise 13:** \n",
    "> **The user gives a positive integer and the program announces how many times in a row this integer is divisible by 2.**"
   ]
  },
  {
   "cell_type": "code",
   "execution_count": 16,
   "metadata": {},
   "outputs": [
    {
     "name": "stdout",
     "output_type": "stream",
     "text": [
      "entrer un nombre positif: 32\n",
      "le nombre de fois est:  5\n"
     ]
    }
   ],
   "source": [
    "n=int(input(\"entrer un nombre positif: \"))\n",
    "t=0\n",
    "while(n%2==0):\n",
    "    t=t+1\n",
    "    n=n/2\n",
    "\n",
    "    \n",
    "print(\"le nombre de fois est: \",t)"
   ]
  },
  {
   "cell_type": "markdown",
   "metadata": {},
   "source": [
    "Exercise 14\n",
    "The user gives an integer between 2 and 12, the program gives the number of ways to do this by rolling two dice."
   ]
  },
  {
   "cell_type": "code",
   "execution_count": 17,
   "metadata": {},
   "outputs": [
    {
     "name": "stdout",
     "output_type": "stream",
     "text": [
      "entrer un nombre: 8\n",
      "entrer le premier resultat: 4\n",
      "entrer le deuxieme resultat: 1\n",
      "entrer le premier resultat: 4\n",
      "entrer le deuxieme resultat: 4\n",
      "le succes est total: \n"
     ]
    }
   ],
   "source": [
    "n=int(input(\"entrer un nombre: \"))\n",
    "a=int(input(\"entrer le premier resultat: \"))\n",
    "b=int(input(\"entrer le deuxieme resultat: \"))\n",
    "k=0\n",
    "while(n!=(a+b)):\n",
    "    a=int(input(\"entrer le premier resultat: \"))\n",
    "    b=int(input(\"entrer le deuxieme resultat: \"))\n",
    "    k=k+1\n",
    "    \n",
    "print(\"le succes est total: \")"
   ]
  },
  {
   "cell_type": "markdown",
   "metadata": {},
   "source": [
    "**Exercice 15:** \n",
    "> **Utilisez la fonction d'entrée intégrée `input()` pour obtenir le `_prénom_`, le `_nom_`, le `_pays_d_origine` et l'`_age_` d'un utilisateur et stockez la valeur dans les noms des variables correspondantes.**"
   ]
  },
  {
   "cell_type": "code",
   "execution_count": 18,
   "metadata": {},
   "outputs": [
    {
     "name": "stdout",
     "output_type": "stream",
     "text": [
      "entrer le prenom: ALBERT\n",
      "entrer le nom: NTUMBA\n",
      "entrer le pays d'origine: RDC KINSHASA\n",
      "entrer l'age: 27\n"
     ]
    }
   ],
   "source": [
    "_prenom=str(input(\"entrer le prenom: \"))\n",
    "_nom=str(input(\"entrer le nom: \"))\n",
    "_pays_d_origine=str(input(\"entrer le pays d'origine: \"))\n",
    "age=int(input(\"entrer l'age: \"))"
   ]
  },
  {
   "cell_type": "markdown",
   "metadata": {},
   "source": [
    "**Exercice 16:** \n",
    "\n",
    "**Déclarer $5$ comme `num_one` et $4$ comme `num_two`**\n",
    "\n",
    "   1. Additionner `num_one` et `num_two` et affecter la valeur à une variable `totale`.\n",
    "   2. Soustraire `num_two` de `num_one` et affecter la valeur à une variable `diff`.\n",
    "   3. Multipliez le `num_one` et le `num_two` et attribuez la valeur à une variable `produit`.\n",
    "   4. Divisez le `num_one` par le `num_two` et attribuez la valeur à une variable `division`.\n",
    "   5. Calculez `num_one` à la puissance de `num_two` et attribuez la valeur à une variable `exp`."
   ]
  },
  {
   "cell_type": "code",
   "execution_count": 19,
   "metadata": {},
   "outputs": [
    {
     "name": "stdout",
     "output_type": "stream",
     "text": [
      "1. l'addition est :  9\n",
      "2. la difference est :  -1\n",
      "3. la difference est :  20\n",
      "4. la difference est :  1.25\n",
      "5. la difference est :  625\n"
     ]
    }
   ],
   "source": [
    "a=5\n",
    "b=4\n",
    "totale=a + b\n",
    "diff= (b - a)\n",
    "produit=a*b\n",
    "division=a/b\n",
    "exp=a** b\n",
    "print(\"1. l'addition est : \",totale)\n",
    "print(\"2. la difference est : \",diff)\n",
    "print(\"3. la difference est : \",produit)\n",
    "print(\"4. la difference est : \",division)\n",
    "print(\"5. la difference est : \",exp)"
   ]
  },
  {
   "cell_type": "markdown",
   "metadata": {},
   "source": [
    "<center> <b> <span style=\"color:orange;\"> 🎉 FÉLICITATIONS! / CONGRATULATIONS! 🎉 </span> </b></center>"
   ]
  }
 ],
 "metadata": {
  "kernelspec": {
   "display_name": "Python 3",
   "language": "python",
   "name": "python3"
  },
  "language_info": {
   "codemirror_mode": {
    "name": "ipython",
    "version": 3
   },
   "file_extension": ".py",
   "mimetype": "text/x-python",
   "name": "python",
   "nbconvert_exporter": "python",
   "pygments_lexer": "ipython3",
   "version": "3.7.3"
  }
 },
 "nbformat": 4,
 "nbformat_minor": 5
}
